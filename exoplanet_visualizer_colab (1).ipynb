{
  "cells": [
    {
      "cell_type": "markdown",
      "metadata": {
        "id": "suCklVh69_sb"
      },
      "source": [
        "# Habitable Exoplanets within 50 ly\n"
      ]
    },
    {
      "cell_type": "code",
      "execution_count": null,
      "metadata": {
        "colab": {
          "base_uri": "https://localhost:8080/"
        },
        "id": "-1uTbXXu9_se",
        "outputId": "2aefd328-daec-4d1c-e96b-c30aab9706ef"
      },
      "outputs": [
        {
          "output_type": "stream",
          "name": "stdout",
          "text": [
            "Requirement already satisfied: pandas in /usr/local/lib/python3.11/dist-packages (2.2.2)\n",
            "Requirement already satisfied: plotly in /usr/local/lib/python3.11/dist-packages (5.24.1)\n",
            "Requirement already satisfied: numpy>=1.23.2 in /usr/local/lib/python3.11/dist-packages (from pandas) (2.0.2)\n",
            "Requirement already satisfied: python-dateutil>=2.8.2 in /usr/local/lib/python3.11/dist-packages (from pandas) (2.9.0.post0)\n",
            "Requirement already satisfied: pytz>=2020.1 in /usr/local/lib/python3.11/dist-packages (from pandas) (2025.2)\n",
            "Requirement already satisfied: tzdata>=2022.7 in /usr/local/lib/python3.11/dist-packages (from pandas) (2025.2)\n",
            "Requirement already satisfied: tenacity>=6.2.0 in /usr/local/lib/python3.11/dist-packages (from plotly) (9.1.2)\n",
            "Requirement already satisfied: packaging in /usr/local/lib/python3.11/dist-packages (from plotly) (24.2)\n",
            "Requirement already satisfied: six>=1.5 in /usr/local/lib/python3.11/dist-packages (from python-dateutil>=2.8.2->pandas) (1.17.0)\n"
          ]
        }
      ],
      "source": [
        "# Install necessary packages\n",
        "!pip install pandas plotly"
      ]
    },
    {
      "cell_type": "code",
      "execution_count": null,
      "metadata": {
        "colab": {
          "base_uri": "https://localhost:8080/",
          "height": 542
        },
        "id": "yMDBR7n39_sf",
        "outputId": "743c4880-d238-4fc0-824f-68f1b308635f"
      },
      "outputs": [
        {
          "output_type": "display_data",
          "data": {
            "text/html": [
              "<html>\n",
              "<head><meta charset=\"utf-8\" /></head>\n",
              "<body>\n",
              "    <div>            <script src=\"https://cdnjs.cloudflare.com/ajax/libs/mathjax/2.7.5/MathJax.js?config=TeX-AMS-MML_SVG\"></script><script type=\"text/javascript\">if (window.MathJax && window.MathJax.Hub && window.MathJax.Hub.Config) {window.MathJax.Hub.Config({SVG: {font: \"STIX-Web\"}});}</script>                <script type=\"text/javascript\">window.PlotlyConfig = {MathJaxConfig: 'local'};</script>\n",
              "        <script charset=\"utf-8\" src=\"https://cdn.plot.ly/plotly-2.35.2.min.js\"></script>                <div id=\"d6876932-7bc6-4693-8738-7bc5e45e5676\" class=\"plotly-graph-div\" style=\"height:525px; width:100%;\"></div>            <script type=\"text/javascript\">                                    window.PLOTLYENV=window.PLOTLYENV || {};                                    if (document.getElementById(\"d6876932-7bc6-4693-8738-7bc5e45e5676\")) {                    Plotly.newPlot(                        \"d6876932-7bc6-4693-8738-7bc5e45e5676\",                        [{\"customdata\":[[12.5,0.97],[40.5,0.91],[4.2,0.86],[15.8,0.86],[12.0,0.86],[12.0,0.86],[11.0,0.86],[12.3,0.85],[31.3,0.85],[40.5,0.85],[23.6,0.76],[40.5,0.68],[12.5,0.66],[23.6,0.6],[15.8,0.58],[40.5,0.58]],\"hovertemplate\":\"\\u003cb\\u003e%{hovertext}\\u003c\\u002fb\\u003e\\u003cbr\\u003e\\u003cbr\\u003ex=%{x}\\u003cbr\\u003ey=%{y}\\u003cbr\\u003ez=%{z}\\u003cbr\\u003edistance=%{customdata[0]}\\u003cbr\\u003ehabitability=%{marker.color}\\u003cextra\\u003e\\u003c\\u002fextra\\u003e\",\"hovertext\":[\"Teegarden's Star b\",\"TRAPPIST-1 d\",\"Proxima Centauri b\",\"GJ 1002 b\",\"GJ 1061 d\",\"GJ 1061 c\",\"Ross 128 b\",\"GJ 273 b\",\"Wolf 1069 b\",\"TRAPPIST-1 e\",\"GJ 667 C f\",\"TRAPPIST-1 f\",\"Teegarden's Star c\",\"GJ 669 C e\",\"GJ 1002 c\",\"TRAPPIST-1 g\"],\"legendgroup\":\"\",\"marker\":{\"color\":[0.97,0.91,0.86,0.86,0.86,0.86,0.86,0.85,0.85,0.85,0.76,0.68,0.66,0.6,0.58,0.58],\"coloraxis\":\"coloraxis\",\"symbol\":\"circle\",\"size\":6},\"mode\":\"markers\",\"name\":\"\",\"scene\":\"scene\",\"showlegend\":false,\"x\":[8.822082085278316,39.55056008545148,-1.5307763257693563,12.445079445260577,3.986000315511189,4.131031537085162,-10.98606117480257,-5.119340297153372,-24.092124360871342,38.89906095471686,-2.7755323914202457,38.50200961589234,8.534931920089928,-3.4415610274228574,12.105675135908214,39.24871977970905],\"y\":[8.073927069742679,-7.958486494128556,-1.1715950507313329,9.507962422430115,7.205520066745667,7.467693999168421,0.5535694719989199,11.127788367139745,-18.463299361813306,-10.698007627187241,-19.13263738543342,-12.049048339510795,8.376894876166363,-19.024117616142718,9.93649743768115,-9.33393304047174],\"z\":[3.6376598731997762,-3.558888822352521,-3.731499548112785,-2.0877375732619243,-8.72881905256778,-8.436120244187595,0.004550073230195869,1.1201254296243077,7.63977227778251,-3.558888822352521,-13.535087979828301,-3.558888822352521,3.6376598731997762,-13.535087979828301,-2.0877375732619243,-3.558888822352521],\"type\":\"scatter3d\"}],                        {\"template\":{\"data\":{\"barpolar\":[{\"marker\":{\"line\":{\"color\":\"rgb(17,17,17)\",\"width\":0.5},\"pattern\":{\"fillmode\":\"overlay\",\"size\":10,\"solidity\":0.2}},\"type\":\"barpolar\"}],\"bar\":[{\"error_x\":{\"color\":\"#f2f5fa\"},\"error_y\":{\"color\":\"#f2f5fa\"},\"marker\":{\"line\":{\"color\":\"rgb(17,17,17)\",\"width\":0.5},\"pattern\":{\"fillmode\":\"overlay\",\"size\":10,\"solidity\":0.2}},\"type\":\"bar\"}],\"carpet\":[{\"aaxis\":{\"endlinecolor\":\"#A2B1C6\",\"gridcolor\":\"#506784\",\"linecolor\":\"#506784\",\"minorgridcolor\":\"#506784\",\"startlinecolor\":\"#A2B1C6\"},\"baxis\":{\"endlinecolor\":\"#A2B1C6\",\"gridcolor\":\"#506784\",\"linecolor\":\"#506784\",\"minorgridcolor\":\"#506784\",\"startlinecolor\":\"#A2B1C6\"},\"type\":\"carpet\"}],\"choropleth\":[{\"colorbar\":{\"outlinewidth\":0,\"ticks\":\"\"},\"type\":\"choropleth\"}],\"contourcarpet\":[{\"colorbar\":{\"outlinewidth\":0,\"ticks\":\"\"},\"type\":\"contourcarpet\"}],\"contour\":[{\"colorbar\":{\"outlinewidth\":0,\"ticks\":\"\"},\"colorscale\":[[0.0,\"#0d0887\"],[0.1111111111111111,\"#46039f\"],[0.2222222222222222,\"#7201a8\"],[0.3333333333333333,\"#9c179e\"],[0.4444444444444444,\"#bd3786\"],[0.5555555555555556,\"#d8576b\"],[0.6666666666666666,\"#ed7953\"],[0.7777777777777778,\"#fb9f3a\"],[0.8888888888888888,\"#fdca26\"],[1.0,\"#f0f921\"]],\"type\":\"contour\"}],\"heatmapgl\":[{\"colorbar\":{\"outlinewidth\":0,\"ticks\":\"\"},\"colorscale\":[[0.0,\"#0d0887\"],[0.1111111111111111,\"#46039f\"],[0.2222222222222222,\"#7201a8\"],[0.3333333333333333,\"#9c179e\"],[0.4444444444444444,\"#bd3786\"],[0.5555555555555556,\"#d8576b\"],[0.6666666666666666,\"#ed7953\"],[0.7777777777777778,\"#fb9f3a\"],[0.8888888888888888,\"#fdca26\"],[1.0,\"#f0f921\"]],\"type\":\"heatmapgl\"}],\"heatmap\":[{\"colorbar\":{\"outlinewidth\":0,\"ticks\":\"\"},\"colorscale\":[[0.0,\"#0d0887\"],[0.1111111111111111,\"#46039f\"],[0.2222222222222222,\"#7201a8\"],[0.3333333333333333,\"#9c179e\"],[0.4444444444444444,\"#bd3786\"],[0.5555555555555556,\"#d8576b\"],[0.6666666666666666,\"#ed7953\"],[0.7777777777777778,\"#fb9f3a\"],[0.8888888888888888,\"#fdca26\"],[1.0,\"#f0f921\"]],\"type\":\"heatmap\"}],\"histogram2dcontour\":[{\"colorbar\":{\"outlinewidth\":0,\"ticks\":\"\"},\"colorscale\":[[0.0,\"#0d0887\"],[0.1111111111111111,\"#46039f\"],[0.2222222222222222,\"#7201a8\"],[0.3333333333333333,\"#9c179e\"],[0.4444444444444444,\"#bd3786\"],[0.5555555555555556,\"#d8576b\"],[0.6666666666666666,\"#ed7953\"],[0.7777777777777778,\"#fb9f3a\"],[0.8888888888888888,\"#fdca26\"],[1.0,\"#f0f921\"]],\"type\":\"histogram2dcontour\"}],\"histogram2d\":[{\"colorbar\":{\"outlinewidth\":0,\"ticks\":\"\"},\"colorscale\":[[0.0,\"#0d0887\"],[0.1111111111111111,\"#46039f\"],[0.2222222222222222,\"#7201a8\"],[0.3333333333333333,\"#9c179e\"],[0.4444444444444444,\"#bd3786\"],[0.5555555555555556,\"#d8576b\"],[0.6666666666666666,\"#ed7953\"],[0.7777777777777778,\"#fb9f3a\"],[0.8888888888888888,\"#fdca26\"],[1.0,\"#f0f921\"]],\"type\":\"histogram2d\"}],\"histogram\":[{\"marker\":{\"pattern\":{\"fillmode\":\"overlay\",\"size\":10,\"solidity\":0.2}},\"type\":\"histogram\"}],\"mesh3d\":[{\"colorbar\":{\"outlinewidth\":0,\"ticks\":\"\"},\"type\":\"mesh3d\"}],\"parcoords\":[{\"line\":{\"colorbar\":{\"outlinewidth\":0,\"ticks\":\"\"}},\"type\":\"parcoords\"}],\"pie\":[{\"automargin\":true,\"type\":\"pie\"}],\"scatter3d\":[{\"line\":{\"colorbar\":{\"outlinewidth\":0,\"ticks\":\"\"}},\"marker\":{\"colorbar\":{\"outlinewidth\":0,\"ticks\":\"\"}},\"type\":\"scatter3d\"}],\"scattercarpet\":[{\"marker\":{\"colorbar\":{\"outlinewidth\":0,\"ticks\":\"\"}},\"type\":\"scattercarpet\"}],\"scattergeo\":[{\"marker\":{\"colorbar\":{\"outlinewidth\":0,\"ticks\":\"\"}},\"type\":\"scattergeo\"}],\"scattergl\":[{\"marker\":{\"line\":{\"color\":\"#283442\"}},\"type\":\"scattergl\"}],\"scattermapbox\":[{\"marker\":{\"colorbar\":{\"outlinewidth\":0,\"ticks\":\"\"}},\"type\":\"scattermapbox\"}],\"scatterpolargl\":[{\"marker\":{\"colorbar\":{\"outlinewidth\":0,\"ticks\":\"\"}},\"type\":\"scatterpolargl\"}],\"scatterpolar\":[{\"marker\":{\"colorbar\":{\"outlinewidth\":0,\"ticks\":\"\"}},\"type\":\"scatterpolar\"}],\"scatter\":[{\"marker\":{\"line\":{\"color\":\"#283442\"}},\"type\":\"scatter\"}],\"scatterternary\":[{\"marker\":{\"colorbar\":{\"outlinewidth\":0,\"ticks\":\"\"}},\"type\":\"scatterternary\"}],\"surface\":[{\"colorbar\":{\"outlinewidth\":0,\"ticks\":\"\"},\"colorscale\":[[0.0,\"#0d0887\"],[0.1111111111111111,\"#46039f\"],[0.2222222222222222,\"#7201a8\"],[0.3333333333333333,\"#9c179e\"],[0.4444444444444444,\"#bd3786\"],[0.5555555555555556,\"#d8576b\"],[0.6666666666666666,\"#ed7953\"],[0.7777777777777778,\"#fb9f3a\"],[0.8888888888888888,\"#fdca26\"],[1.0,\"#f0f921\"]],\"type\":\"surface\"}],\"table\":[{\"cells\":{\"fill\":{\"color\":\"#506784\"},\"line\":{\"color\":\"rgb(17,17,17)\"}},\"header\":{\"fill\":{\"color\":\"#2a3f5f\"},\"line\":{\"color\":\"rgb(17,17,17)\"}},\"type\":\"table\"}]},\"layout\":{\"annotationdefaults\":{\"arrowcolor\":\"#f2f5fa\",\"arrowhead\":0,\"arrowwidth\":1},\"autotypenumbers\":\"strict\",\"coloraxis\":{\"colorbar\":{\"outlinewidth\":0,\"ticks\":\"\"}},\"colorscale\":{\"diverging\":[[0,\"#8e0152\"],[0.1,\"#c51b7d\"],[0.2,\"#de77ae\"],[0.3,\"#f1b6da\"],[0.4,\"#fde0ef\"],[0.5,\"#f7f7f7\"],[0.6,\"#e6f5d0\"],[0.7,\"#b8e186\"],[0.8,\"#7fbc41\"],[0.9,\"#4d9221\"],[1,\"#276419\"]],\"sequential\":[[0.0,\"#0d0887\"],[0.1111111111111111,\"#46039f\"],[0.2222222222222222,\"#7201a8\"],[0.3333333333333333,\"#9c179e\"],[0.4444444444444444,\"#bd3786\"],[0.5555555555555556,\"#d8576b\"],[0.6666666666666666,\"#ed7953\"],[0.7777777777777778,\"#fb9f3a\"],[0.8888888888888888,\"#fdca26\"],[1.0,\"#f0f921\"]],\"sequentialminus\":[[0.0,\"#0d0887\"],[0.1111111111111111,\"#46039f\"],[0.2222222222222222,\"#7201a8\"],[0.3333333333333333,\"#9c179e\"],[0.4444444444444444,\"#bd3786\"],[0.5555555555555556,\"#d8576b\"],[0.6666666666666666,\"#ed7953\"],[0.7777777777777778,\"#fb9f3a\"],[0.8888888888888888,\"#fdca26\"],[1.0,\"#f0f921\"]]},\"colorway\":[\"#636efa\",\"#EF553B\",\"#00cc96\",\"#ab63fa\",\"#FFA15A\",\"#19d3f3\",\"#FF6692\",\"#B6E880\",\"#FF97FF\",\"#FECB52\"],\"font\":{\"color\":\"#f2f5fa\"},\"geo\":{\"bgcolor\":\"rgb(17,17,17)\",\"lakecolor\":\"rgb(17,17,17)\",\"landcolor\":\"rgb(17,17,17)\",\"showlakes\":true,\"showland\":true,\"subunitcolor\":\"#506784\"},\"hoverlabel\":{\"align\":\"left\"},\"hovermode\":\"closest\",\"mapbox\":{\"style\":\"dark\"},\"paper_bgcolor\":\"rgb(17,17,17)\",\"plot_bgcolor\":\"rgb(17,17,17)\",\"polar\":{\"angularaxis\":{\"gridcolor\":\"#506784\",\"linecolor\":\"#506784\",\"ticks\":\"\"},\"bgcolor\":\"rgb(17,17,17)\",\"radialaxis\":{\"gridcolor\":\"#506784\",\"linecolor\":\"#506784\",\"ticks\":\"\"}},\"scene\":{\"xaxis\":{\"backgroundcolor\":\"rgb(17,17,17)\",\"gridcolor\":\"#506784\",\"gridwidth\":2,\"linecolor\":\"#506784\",\"showbackground\":true,\"ticks\":\"\",\"zerolinecolor\":\"#C8D4E3\"},\"yaxis\":{\"backgroundcolor\":\"rgb(17,17,17)\",\"gridcolor\":\"#506784\",\"gridwidth\":2,\"linecolor\":\"#506784\",\"showbackground\":true,\"ticks\":\"\",\"zerolinecolor\":\"#C8D4E3\"},\"zaxis\":{\"backgroundcolor\":\"rgb(17,17,17)\",\"gridcolor\":\"#506784\",\"gridwidth\":2,\"linecolor\":\"#506784\",\"showbackground\":true,\"ticks\":\"\",\"zerolinecolor\":\"#C8D4E3\"}},\"shapedefaults\":{\"line\":{\"color\":\"#f2f5fa\"}},\"sliderdefaults\":{\"bgcolor\":\"#C8D4E3\",\"bordercolor\":\"rgb(17,17,17)\",\"borderwidth\":1,\"tickwidth\":0},\"ternary\":{\"aaxis\":{\"gridcolor\":\"#506784\",\"linecolor\":\"#506784\",\"ticks\":\"\"},\"baxis\":{\"gridcolor\":\"#506784\",\"linecolor\":\"#506784\",\"ticks\":\"\"},\"bgcolor\":\"rgb(17,17,17)\",\"caxis\":{\"gridcolor\":\"#506784\",\"linecolor\":\"#506784\",\"ticks\":\"\"}},\"title\":{\"x\":0.05},\"updatemenudefaults\":{\"bgcolor\":\"#506784\",\"borderwidth\":0},\"xaxis\":{\"automargin\":true,\"gridcolor\":\"#283442\",\"linecolor\":\"#506784\",\"ticks\":\"\",\"title\":{\"standoff\":15},\"zerolinecolor\":\"#283442\",\"zerolinewidth\":2},\"yaxis\":{\"automargin\":true,\"gridcolor\":\"#283442\",\"linecolor\":\"#506784\",\"ticks\":\"\",\"title\":{\"standoff\":15},\"zerolinecolor\":\"#283442\",\"zerolinewidth\":2}}},\"scene\":{\"domain\":{\"x\":[0.0,1.0],\"y\":[0.0,1.0]},\"xaxis\":{\"title\":{\"text\":\"X (ly)\"}},\"yaxis\":{\"title\":{\"text\":\"Y (ly)\"}},\"zaxis\":{\"title\":{\"text\":\"Z (ly)\"}}},\"coloraxis\":{\"colorbar\":{\"title\":{\"text\":\"Habitability (0–1)\"},\"tickvals\":[0,0.5,1]},\"colorscale\":[[0,\"#8B0000\"],[0.5,\"#FFD700\"],[1,\"#00FF00\"]],\"cmin\":0,\"cmax\":1},\"legend\":{\"tracegroupgap\":0},\"title\":{\"text\":\"Habitable Exoplanets Within 50 Light-Years\"}},                        {\"responsive\": true}                    ).then(function(){\n",
              "                            \n",
              "var gd = document.getElementById('d6876932-7bc6-4693-8738-7bc5e45e5676');\n",
              "var x = new MutationObserver(function (mutations, observer) {{\n",
              "        var display = window.getComputedStyle(gd).display;\n",
              "        if (!display || display === 'none') {{\n",
              "            console.log([gd, 'removed!']);\n",
              "            Plotly.purge(gd);\n",
              "            observer.disconnect();\n",
              "        }}\n",
              "}});\n",
              "\n",
              "// Listen for the removal of the full notebook cells\n",
              "var notebookContainer = gd.closest('#notebook-container');\n",
              "if (notebookContainer) {{\n",
              "    x.observe(notebookContainer, {childList: true});\n",
              "}}\n",
              "\n",
              "// Listen for the clearing of the current output cell\n",
              "var outputEl = gd.closest('.output');\n",
              "if (outputEl) {{\n",
              "    x.observe(outputEl, {childList: true});\n",
              "}}\n",
              "\n",
              "                        })                };                            </script>        </div>\n",
              "</body>\n",
              "</html>"
            ]
          },
          "metadata": {}
        }
      ],
      "source": [
        "import math\n",
        "import pandas as pd\n",
        "import plotly.express as px\n",
        "\n",
        "# Sample exoplanet data\n",
        "data = [\n",
        "    {\"name\": \"Teegarden's Star b\", \"ra\": 42.4646, \"dec\": 16.9186, \"distance\": 12.5, \"habitability\": 0.97},\n",
        "    {\"name\": \"TRAPPIST-1 d\", \"ra\": 348.6227, \"dec\": -5.0413, \"distance\": 40.5, \"habitability\": 0.91},\n",
        "    {\"name\": \"Proxima Centauri b\", \"ra\": 217.4290, \"dec\": -62.6794, \"distance\": 4.2, \"habitability\": 0.86},\n",
        "    {\"name\": \"GJ 1002 b\", \"ra\": 37.3796, \"dec\": -7.5930, \"distance\": 15.8, \"habitability\": 0.86},\n",
        "    {\"name\": \"GJ 1061 d\", \"ra\": 61.0492, \"dec\": -46.6690, \"distance\": 12, \"habitability\": 0.86},\n",
        "    {\"name\": \"GJ 1061 c\", \"ra\": 61.0492, \"dec\": -44.6690, \"distance\": 12, \"habitability\": 0.86},\n",
        "    {\"name\": \"Ross 128 b\", \"ra\": 177.1154, \"dec\": 0.0237, \"distance\": 11, \"habitability\": 0.86},\n",
        "    {\"name\": \"GJ 273 b\", \"ra\": 114.7048, \"dec\": 5.2250, \"distance\": 12.3, \"habitability\": 0.85},\n",
        "    {\"name\": \"Wolf 1069 b\", \"ra\": 217.4652, \"dec\": 14.1276, \"distance\": 31.3, \"habitability\": 0.85},\n",
        "    {\"name\": \"TRAPPIST-1 e\", \"ra\": 344.6227, \"dec\": -5.0413, \"distance\": 40.5, \"habitability\": 0.85},\n",
        "    {\"name\": \"GJ 667 C f\", \"ra\": 261.7458, \"dec\": -34.9961, \"distance\": 23.6, \"habitability\": 0.76},\n",
        "    {\"name\": \"TRAPPIST-1 f\", \"ra\": 342.6227, \"dec\": -5.0413, \"distance\": 40.5, \"habitability\": 0.68},\n",
        "    {\"name\": \"Teegarden's Star c\", \"ra\": 44.4646, \"dec\": 16.9186, \"distance\": 12.5, \"habitability\": 0.66},\n",
        "    {\"name\": \"GJ 669 C e\", \"ra\": 259.7458, \"dec\": -34.9961, \"distance\": 23.6, \"habitability\": 0.60},\n",
        "    {\"name\": \"GJ 1002 c\", \"ra\": 39.3796, \"dec\": -7.5930, \"distance\": 15.8, \"habitability\": 0.58},\n",
        "    {\"name\": \"TRAPPIST-1 g\", \"ra\": 346.6227, \"dec\": -5.0413, \"distance\": 40.5, \"habitability\": 0.58},\n",
        "\n",
        "]\n",
        "\n",
        "# Convert RA/Dec/Distance to Cartesian coordinates\n",
        "def ra_dec_to_xyz(ra_deg, dec_deg, distance_ly):\n",
        "    ra_rad = math.radians(ra_deg)\n",
        "    dec_rad = math.radians(dec_deg)\n",
        "    x = distance_ly * math.cos(dec_rad) * math.cos(ra_rad)\n",
        "    y = distance_ly * math.cos(dec_rad) * math.sin(ra_rad)\n",
        "    z = distance_ly * math.sin(dec_rad)\n",
        "    return x, y, z\n",
        "\n",
        "for d in data:\n",
        "    x, y, z = ra_dec_to_xyz(d[\"ra\"], d[\"dec\"], d[\"distance\"])\n",
        "    d[\"x\"] = x\n",
        "    d[\"y\"] = y\n",
        "    d[\"z\"] = z\n",
        "\n",
        "df = pd.DataFrame(data)\n",
        "\n",
        "\n",
        "fig = px.scatter_3d(\n",
        "    df,\n",
        "    x=\"x\", y=\"y\", z=\"z\",\n",
        "    color=\"habitability\",\n",
        "    color_continuous_scale=[(0, \"#8B0000\"), (0.5, \"#FFD700\"), (1, \"#00FF00\")],\n",
        "    range_color=[0, 1],\n",
        "    hover_name=\"name\",\n",
        "    hover_data={\"distance\": True, \"habitability\": True},\n",
        "    title=\"Habitable Exoplanets Within 50 Light-Years\",\n",
        ")\n",
        "\n",
        "fig.update_traces(marker=dict(size=6))\n",
        "fig.update_layout(\n",
        "    template=\"plotly_dark\",  # Set dark mode\n",
        "    scene=dict(xaxis_title=\"X (ly)\", yaxis_title=\"Y (ly)\", zaxis_title=\"Z (ly)\"),\n",
        "    coloraxis_colorbar=dict(title=\"Habitability (0–1)\", tickvals=[0, 0.5, 1]),\n",
        ")\n",
        "fig.show()"
      ]
    }
  ],
  "metadata": {
    "kernelspec": {
      "display_name": "Python 3",
      "language": "python",
      "name": "python3"
    },
    "language_info": {
      "name": "python",
      "version": "3.9"
    },
    "colab": {
      "provenance": []
    }
  },
  "nbformat": 4,
  "nbformat_minor": 0
}